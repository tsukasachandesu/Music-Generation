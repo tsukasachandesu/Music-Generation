{
  "cells": [
    {
      "cell_type": "code",
      "execution_count": 8,
      "id": "28ff1a08",
      "metadata": {
        "id": "28ff1a08",
        "outputId": "bb9e9f24-d247-4bdb-ff94-7054039d1da2",
        "colab": {
          "base_uri": "https://localhost:8080/"
        }
      },
      "outputs": [
        {
          "output_type": "stream",
          "name": "stderr",
          "text": [
            "INFO:lightning_fabric.utilities.seed:Global seed set to 42\n"
          ]
        },
        {
          "output_type": "execute_result",
          "data": {
            "text/plain": [
              "42"
            ]
          },
          "metadata": {},
          "execution_count": 8
        }
      ],
      "source": [
        "import numpy as np\n",
        "import torch\n",
        "import os\n",
        "from tqdm.notebook import tqdm\n",
        "\n",
        "from deepmusic import MusicRepr, Constants\n",
        "from importlib import reload\n",
        "\n",
        "from pytorch_lightning import Trainer, seed_everything\n",
        "from pytorch_lightning.loggers import TensorBoardLogger\n",
        "from pytorch_lightning.callbacks import ModelCheckpoint, LearningRateMonitor\n",
        "\n",
        "seed_everything(42)"
      ]
    },
    {
      "cell_type": "code",
      "source": [
        "!pip install pytorch_lightning"
      ],
      "metadata": {
        "id": "YsQCiCrMWjk2",
        "outputId": "3bb867f9-76ea-433d-fec3-04af97be9b25",
        "colab": {
          "base_uri": "https://localhost:8080/"
        }
      },
      "id": "YsQCiCrMWjk2",
      "execution_count": 7,
      "outputs": [
        {
          "output_type": "stream",
          "name": "stdout",
          "text": [
            "Looking in indexes: https://pypi.org/simple, https://us-python.pkg.dev/colab-wheels/public/simple/\n",
            "Collecting pytorch_lightning\n",
            "  Downloading pytorch_lightning-2.0.0-py3-none-any.whl (715 kB)\n",
            "\u001b[2K     \u001b[90m━━━━━━━━━━━━━━━━━━━━━━━━━━━━━━━━━━━━━━\u001b[0m \u001b[32m715.6/715.6 KB\u001b[0m \u001b[31m11.0 MB/s\u001b[0m eta \u001b[36m0:00:00\u001b[0m\n",
            "\u001b[?25hCollecting lightning-utilities>=0.7.0\n",
            "  Downloading lightning_utilities-0.8.0-py3-none-any.whl (20 kB)\n",
            "Requirement already satisfied: packaging>=17.1 in /usr/local/lib/python3.9/dist-packages (from pytorch_lightning) (23.0)\n",
            "Requirement already satisfied: PyYAML>=5.4 in /usr/local/lib/python3.9/dist-packages (from pytorch_lightning) (6.0)\n",
            "Requirement already satisfied: fsspec[http]>2021.06.0 in /usr/local/lib/python3.9/dist-packages (from pytorch_lightning) (2023.3.0)\n",
            "Requirement already satisfied: torch>=1.11.0 in /usr/local/lib/python3.9/dist-packages (from pytorch_lightning) (1.13.1+cu116)\n",
            "Collecting torchmetrics>=0.7.0\n",
            "  Downloading torchmetrics-0.11.4-py3-none-any.whl (519 kB)\n",
            "\u001b[2K     \u001b[90m━━━━━━━━━━━━━━━━━━━━━━━━━━━━━━━━━━━━━━\u001b[0m \u001b[32m519.2/519.2 KB\u001b[0m \u001b[31m30.9 MB/s\u001b[0m eta \u001b[36m0:00:00\u001b[0m\n",
            "\u001b[?25hRequirement already satisfied: numpy>=1.17.2 in /usr/local/lib/python3.9/dist-packages (from pytorch_lightning) (1.22.4)\n",
            "Requirement already satisfied: typing-extensions>=4.0.0 in /usr/local/lib/python3.9/dist-packages (from pytorch_lightning) (4.5.0)\n",
            "Requirement already satisfied: tqdm>=4.57.0 in /usr/local/lib/python3.9/dist-packages (from pytorch_lightning) (4.65.0)\n",
            "Requirement already satisfied: requests in /usr/local/lib/python3.9/dist-packages (from fsspec[http]>2021.06.0->pytorch_lightning) (2.27.1)\n",
            "Collecting aiohttp!=4.0.0a0,!=4.0.0a1\n",
            "  Downloading aiohttp-3.8.4-cp39-cp39-manylinux_2_17_x86_64.manylinux2014_x86_64.whl (1.0 MB)\n",
            "\u001b[2K     \u001b[90m━━━━━━━━━━━━━━━━━━━━━━━━━━━━━━━━━━━━━━━━\u001b[0m \u001b[32m1.0/1.0 MB\u001b[0m \u001b[31m48.1 MB/s\u001b[0m eta \u001b[36m0:00:00\u001b[0m\n",
            "\u001b[?25hCollecting multidict<7.0,>=4.5\n",
            "  Downloading multidict-6.0.4-cp39-cp39-manylinux_2_17_x86_64.manylinux2014_x86_64.whl (114 kB)\n",
            "\u001b[2K     \u001b[90m━━━━━━━━━━━━━━━━━━━━━━━━━━━━━━━━━━━━━━\u001b[0m \u001b[32m114.2/114.2 KB\u001b[0m \u001b[31m10.5 MB/s\u001b[0m eta \u001b[36m0:00:00\u001b[0m\n",
            "\u001b[?25hCollecting aiosignal>=1.1.2\n",
            "  Downloading aiosignal-1.3.1-py3-none-any.whl (7.6 kB)\n",
            "Collecting async-timeout<5.0,>=4.0.0a3\n",
            "  Downloading async_timeout-4.0.2-py3-none-any.whl (5.8 kB)\n",
            "Requirement already satisfied: attrs>=17.3.0 in /usr/local/lib/python3.9/dist-packages (from aiohttp!=4.0.0a0,!=4.0.0a1->fsspec[http]>2021.06.0->pytorch_lightning) (22.2.0)\n",
            "Requirement already satisfied: charset-normalizer<4.0,>=2.0 in /usr/local/lib/python3.9/dist-packages (from aiohttp!=4.0.0a0,!=4.0.0a1->fsspec[http]>2021.06.0->pytorch_lightning) (2.0.12)\n",
            "Collecting yarl<2.0,>=1.0\n",
            "  Downloading yarl-1.8.2-cp39-cp39-manylinux_2_17_x86_64.manylinux2014_x86_64.whl (264 kB)\n",
            "\u001b[2K     \u001b[90m━━━━━━━━━━━━━━━━━━━━━━━━━━━━━━━━━━━━━━\u001b[0m \u001b[32m264.6/264.6 KB\u001b[0m \u001b[31m26.5 MB/s\u001b[0m eta \u001b[36m0:00:00\u001b[0m\n",
            "\u001b[?25hCollecting frozenlist>=1.1.1\n",
            "  Downloading frozenlist-1.3.3-cp39-cp39-manylinux_2_5_x86_64.manylinux1_x86_64.manylinux_2_17_x86_64.manylinux2014_x86_64.whl (158 kB)\n",
            "\u001b[2K     \u001b[90m━━━━━━━━━━━━━━━━━━━━━━━━━━━━━━━━━━━━━━\u001b[0m \u001b[32m158.8/158.8 KB\u001b[0m \u001b[31m16.1 MB/s\u001b[0m eta \u001b[36m0:00:00\u001b[0m\n",
            "\u001b[?25hRequirement already satisfied: urllib3<1.27,>=1.21.1 in /usr/local/lib/python3.9/dist-packages (from requests->fsspec[http]>2021.06.0->pytorch_lightning) (1.26.15)\n",
            "Requirement already satisfied: certifi>=2017.4.17 in /usr/local/lib/python3.9/dist-packages (from requests->fsspec[http]>2021.06.0->pytorch_lightning) (2022.12.7)\n",
            "Requirement already satisfied: idna<4,>=2.5 in /usr/local/lib/python3.9/dist-packages (from requests->fsspec[http]>2021.06.0->pytorch_lightning) (3.4)\n",
            "Installing collected packages: multidict, lightning-utilities, frozenlist, async-timeout, yarl, torchmetrics, aiosignal, aiohttp, pytorch_lightning\n",
            "Successfully installed aiohttp-3.8.4 aiosignal-1.3.1 async-timeout-4.0.2 frozenlist-1.3.3 lightning-utilities-0.8.0 multidict-6.0.4 pytorch_lightning-2.0.0 torchmetrics-0.11.4 yarl-1.8.2\n"
          ]
        }
      ]
    },
    {
      "cell_type": "code",
      "source": [
        "!git clone https://github.com/s-omranpour/DeepMusic\n",
        "%cd DeepMusic\n",
        "!pip install ."
      ],
      "metadata": {
        "id": "EY9jiKUjWLNL",
        "outputId": "a016dd8e-0039-4f1e-bdc7-efba3d9003ae",
        "colab": {
          "base_uri": "https://localhost:8080/"
        }
      },
      "id": "EY9jiKUjWLNL",
      "execution_count": 2,
      "outputs": [
        {
          "output_type": "stream",
          "name": "stdout",
          "text": [
            "Cloning into 'DeepMusic'...\n",
            "remote: Enumerating objects: 383, done.\u001b[K\n",
            "remote: Counting objects: 100% (3/3), done.\u001b[K\n",
            "remote: Compressing objects: 100% (2/2), done.\u001b[K\n",
            "remote: Total 383 (delta 2), reused 1 (delta 1), pack-reused 380\u001b[K\n",
            "Receiving objects: 100% (383/383), 237.59 KiB | 1.22 MiB/s, done.\n",
            "Resolving deltas: 100% (240/240), done.\n",
            "/content/DeepMusic\n",
            "Looking in indexes: https://pypi.org/simple, https://us-python.pkg.dev/colab-wheels/public/simple/\n",
            "Processing /content/DeepMusic\n",
            "  Preparing metadata (setup.py) ... \u001b[?25l\u001b[?25hdone\n",
            "Requirement already satisfied: numpy>=1.7.0 in /usr/local/lib/python3.9/dist-packages (from deepmusic==0.2.5) (1.22.4)\n",
            "Collecting miditoolkit>=0.1.14\n",
            "  Downloading miditoolkit-0.1.16-py3-none-any.whl (20 kB)\n",
            "Collecting chorder>=0.1.2\n",
            "  Downloading chorder-0.1.4-py3-none-any.whl (10 kB)\n",
            "Collecting midi2audio>=0.1.1\n",
            "  Downloading midi2audio-0.1.1-py2.py3-none-any.whl (8.7 kB)\n",
            "Collecting mido>=1.1.16\n",
            "  Downloading mido-1.2.10-py2.py3-none-any.whl (51 kB)\n",
            "\u001b[2K     \u001b[90m━━━━━━━━━━━━━━━━━━━━━━━━━━━━━━━━━━━━━━━━\u001b[0m \u001b[32m51.1/51.1 KB\u001b[0m \u001b[31m3.0 MB/s\u001b[0m eta \u001b[36m0:00:00\u001b[0m\n",
            "\u001b[?25hBuilding wheels for collected packages: deepmusic\n",
            "  Building wheel for deepmusic (setup.py) ... \u001b[?25l\u001b[?25hdone\n",
            "  Created wheel for deepmusic: filename=deepmusic-0.2.5-py3-none-any.whl size=13857 sha256=285d8eef3034990f43650f443f3e1507ae2fc3d2311a2ea1e83b2ee50cf94406\n",
            "  Stored in directory: /tmp/pip-ephem-wheel-cache-b00y60wz/wheels/ce/e6/33/b55877c4b36a49178ddc66f03f9b05eb19b1c883bd407bd513\n",
            "Successfully built deepmusic\n",
            "Installing collected packages: mido, midi2audio, miditoolkit, chorder, deepmusic\n",
            "Successfully installed chorder-0.1.4 deepmusic-0.2.5 midi2audio-0.1.1 miditoolkit-0.1.16 mido-1.2.10\n"
          ]
        }
      ]
    },
    {
      "cell_type": "code",
      "source": [
        "!git clone https://github.com/s-omranpour/Music-Generation"
      ],
      "metadata": {
        "id": "VxEpuN1TWVu4",
        "outputId": "51087281-9dd3-4b73-b219-c6fba0273fa6",
        "colab": {
          "base_uri": "https://localhost:8080/"
        }
      },
      "id": "VxEpuN1TWVu4",
      "execution_count": 4,
      "outputs": [
        {
          "output_type": "stream",
          "name": "stdout",
          "text": [
            "Cloning into 'Music-Generation'...\n",
            "remote: Enumerating objects: 151, done.\u001b[K\n",
            "remote: Counting objects: 100% (151/151), done.\u001b[K\n",
            "remote: Compressing objects: 100% (100/100), done.\u001b[K\n",
            "remote: Total 151 (delta 64), reused 126 (delta 48), pack-reused 0\u001b[K\n",
            "Receiving objects: 100% (151/151), 87.75 KiB | 259.00 KiB/s, done.\n",
            "Resolving deltas: 100% (64/64), done.\n"
          ]
        }
      ]
    },
    {
      "cell_type": "code",
      "source": [
        "%cd /content/DeepMusic/Music-Generation"
      ],
      "metadata": {
        "id": "nik6nXzcWRqL",
        "outputId": "28c890d6-3a27-4a77-a998-27011a8a1ddb",
        "colab": {
          "base_uri": "https://localhost:8080/"
        }
      },
      "id": "nik6nXzcWRqL",
      "execution_count": 5,
      "outputs": [
        {
          "output_type": "stream",
          "name": "stdout",
          "text": [
            "/content/DeepMusic/Music-Generation\n"
          ]
        }
      ]
    },
    {
      "cell_type": "markdown",
      "id": "512f0b26",
      "metadata": {
        "id": "512f0b26"
      },
      "source": [
        "## Data"
      ]
    },
    {
      "cell_type": "code",
      "execution_count": 10,
      "id": "329ce139",
      "metadata": {
        "id": "329ce139",
        "outputId": "d9349d59-e4d3-4e55-ce65-13962c010f5b",
        "colab": {
          "base_uri": "https://localhost:8080/"
        }
      },
      "outputs": [
        {
          "output_type": "stream",
          "name": "stdout",
          "text": [
            "model name: cp-small-v-simplehead-ae-pop-win1024\n"
          ]
        }
      ],
      "source": [
        "const = Constants(unit=4, num_tempo_bins=20, num_velocity_bins=20)\n",
        "\n",
        "data_config = {\n",
        "    'data_dir' : '/content/DeepMusic/Music-Generation/assets/',\n",
        "#     'data_dir' : '/home/soroosh/data/MIDI/e-gmd-v1.0.0/midis_processed/',\n",
        "#     'data_dir' : '/home/soroosh/data/MIDI/lmd_processed/',\n",
        "    'const' : const,\n",
        "    'instruments' : ['piano', 'drums'],\n",
        "    'mode' : 'cp',\n",
        "    'max_files' : 10,\n",
        "    'window_len' : 1024,\n",
        "    'pad_value' : 0,\n",
        "    'n_jobs' : 20\n",
        "}\n",
        "\n",
        "name = 'cp-small-v-simplehead-ae-pop-win1024'\n",
        "print('model name:',name)"
      ]
    },
    {
      "cell_type": "code",
      "source": [],
      "metadata": {
        "id": "1fWlPfpmWGnD"
      },
      "id": "1fWlPfpmWGnD",
      "execution_count": null,
      "outputs": []
    },
    {
      "cell_type": "code",
      "execution_count": 16,
      "id": "4b411d6f",
      "metadata": {
        "scrolled": true,
        "id": "4b411d6f",
        "outputId": "4fdb22f3-42a3-4fa4-fccc-3429d51b3741",
        "colab": {
          "base_uri": "https://localhost:8080/",
          "height": 66,
          "referenced_widgets": [
            "7b5766a79059457babc64c2e8ae45528",
            "c45a327564cc4505b829c892af7c1ba4",
            "0117dab549a7408dbd154b8b3f361bed",
            "46e28b61e18141eb9c1cb68b123ab22c",
            "e10308137ad142188218c530d7e322c6",
            "d4d97b045f15498ca13b1fabda7dac0f",
            "71c420aa7aac4310bb9f88c043873696",
            "239aa790fe624eb0bcb2c36f8195f90a",
            "a428781a626745adbfd9674c46ab3ed3",
            "876bbac742bf4231ad84deab31155cab",
            "80ef74310aa644f18fe5dba234e9f895"
          ]
        }
      },
      "outputs": [
        {
          "output_type": "display_data",
          "data": {
            "text/plain": [
              "  0%|          | 0/10 [00:00<?, ?it/s]"
            ],
            "application/vnd.jupyter.widget-view+json": {
              "version_major": 2,
              "version_minor": 0,
              "model_id": "7b5766a79059457babc64c2e8ae45528"
            }
          },
          "metadata": {}
        },
        {
          "output_type": "execute_result",
          "data": {
            "text/plain": [
              "10"
            ]
          },
          "metadata": {},
          "execution_count": 16
        }
      ],
      "source": [
        "import src.data\n",
        "reload(src.data)\n",
        "from src.data import MidiDataset\n",
        "\n",
        "dataset = MidiDataset(**data_config)\n",
        "n = len(dataset)\n",
        "n"
      ]
    },
    {
      "cell_type": "code",
      "execution_count": 17,
      "id": "7c8ba290",
      "metadata": {
        "id": "7c8ba290"
      },
      "outputs": [],
      "source": [
        "from torch.utils.data import DataLoader, random_split\n",
        "\n",
        "t = int(0.1 * n)\n",
        "td, vd = random_split(dataset, [n-t, t])\n",
        "tl = DataLoader(dataset=td, batch_size=16, pin_memory=False, shuffle=True, num_workers=4, collate_fn=dataset.fn)\n",
        "vl = DataLoader(dataset=vd, batch_size=32, pin_memory=False, shuffle=False, num_workers=4, collate_fn=dataset.fn)"
      ]
    },
    {
      "cell_type": "code",
      "execution_count": 18,
      "id": "9275acd0",
      "metadata": {
        "id": "9275acd0",
        "outputId": "2ac92248-2db7-473a-d764-cd59d940ff33",
        "colab": {
          "base_uri": "https://localhost:8080/"
        }
      },
      "outputs": [
        {
          "output_type": "stream",
          "name": "stderr",
          "text": [
            "/content/DeepMusic/Music-Generation/src/data.py:95: UserWarning: Creating a tensor from a list of numpy.ndarrays is extremely slow. Please consider converting the list to a single numpy.ndarray with numpy.array() before converting to a tensor. (Triggered internally at ../torch/csrc/utils/tensor_new.cpp:230.)\n"
          ]
        },
        {
          "output_type": "stream",
          "name": "stdout",
          "text": [
            "X torch.Size([1, 314, 8]) cpu\n",
            "X_len torch.Size([1]) cpu\n",
            "labels torch.Size([1, 314, 8]) cpu\n"
          ]
        }
      ],
      "source": [
        "b = next(iter(vl))\n",
        "for k in b:\n",
        "    print(k, b[k].shape, b[k].device)"
      ]
    },
    {
      "cell_type": "code",
      "source": [
        "!pip install transformers"
      ],
      "metadata": {
        "id": "GgU-XbgNYTd9",
        "outputId": "9389bd65-81d0-4e6e-bc00-cdb42ea68af9",
        "colab": {
          "base_uri": "https://localhost:8080/"
        }
      },
      "id": "GgU-XbgNYTd9",
      "execution_count": 20,
      "outputs": [
        {
          "output_type": "stream",
          "name": "stdout",
          "text": [
            "Looking in indexes: https://pypi.org/simple, https://us-python.pkg.dev/colab-wheels/public/simple/\n",
            "Collecting transformers\n",
            "  Downloading transformers-4.27.3-py3-none-any.whl (6.8 MB)\n",
            "\u001b[2K     \u001b[90m━━━━━━━━━━━━━━━━━━━━━━━━━━━━━━━━━━━━━━━━\u001b[0m \u001b[32m6.8/6.8 MB\u001b[0m \u001b[31m38.8 MB/s\u001b[0m eta \u001b[36m0:00:00\u001b[0m\n",
            "\u001b[?25hRequirement already satisfied: packaging>=20.0 in /usr/local/lib/python3.9/dist-packages (from transformers) (23.0)\n",
            "Requirement already satisfied: filelock in /usr/local/lib/python3.9/dist-packages (from transformers) (3.10.1)\n",
            "Requirement already satisfied: tqdm>=4.27 in /usr/local/lib/python3.9/dist-packages (from transformers) (4.65.0)\n",
            "Collecting tokenizers!=0.11.3,<0.14,>=0.11.1\n",
            "  Downloading tokenizers-0.13.2-cp39-cp39-manylinux_2_17_x86_64.manylinux2014_x86_64.whl (7.6 MB)\n",
            "\u001b[2K     \u001b[90m━━━━━━━━━━━━━━━━━━━━━━━━━━━━━━━━━━━━━━━━\u001b[0m \u001b[32m7.6/7.6 MB\u001b[0m \u001b[31m61.7 MB/s\u001b[0m eta \u001b[36m0:00:00\u001b[0m\n",
            "\u001b[?25hRequirement already satisfied: pyyaml>=5.1 in /usr/local/lib/python3.9/dist-packages (from transformers) (6.0)\n",
            "Requirement already satisfied: regex!=2019.12.17 in /usr/local/lib/python3.9/dist-packages (from transformers) (2022.10.31)\n",
            "Requirement already satisfied: numpy>=1.17 in /usr/local/lib/python3.9/dist-packages (from transformers) (1.22.4)\n",
            "Requirement already satisfied: requests in /usr/local/lib/python3.9/dist-packages (from transformers) (2.27.1)\n",
            "Collecting huggingface-hub<1.0,>=0.11.0\n",
            "  Downloading huggingface_hub-0.13.3-py3-none-any.whl (199 kB)\n",
            "\u001b[2K     \u001b[90m━━━━━━━━━━━━━━━━━━━━━━━━━━━━━━━━━━━━━━\u001b[0m \u001b[32m199.8/199.8 KB\u001b[0m \u001b[31m18.7 MB/s\u001b[0m eta \u001b[36m0:00:00\u001b[0m\n",
            "\u001b[?25hRequirement already satisfied: typing-extensions>=3.7.4.3 in /usr/local/lib/python3.9/dist-packages (from huggingface-hub<1.0,>=0.11.0->transformers) (4.5.0)\n",
            "Requirement already satisfied: urllib3<1.27,>=1.21.1 in /usr/local/lib/python3.9/dist-packages (from requests->transformers) (1.26.15)\n",
            "Requirement already satisfied: charset-normalizer~=2.0.0 in /usr/local/lib/python3.9/dist-packages (from requests->transformers) (2.0.12)\n",
            "Requirement already satisfied: certifi>=2017.4.17 in /usr/local/lib/python3.9/dist-packages (from requests->transformers) (2022.12.7)\n",
            "Requirement already satisfied: idna<4,>=2.5 in /usr/local/lib/python3.9/dist-packages (from requests->transformers) (3.4)\n",
            "Installing collected packages: tokenizers, huggingface-hub, transformers\n",
            "Successfully installed huggingface-hub-0.13.3 tokenizers-0.13.2 transformers-4.27.3\n"
          ]
        }
      ]
    },
    {
      "cell_type": "code",
      "source": [
        "import src.config\n",
        "reload(src.config)\n",
        "from src.config import make_config\n",
        "from transformers import GPT2Config, TransfoXLConfig\n",
        "\n",
        "\n",
        "config = make_config(\n",
        "     const,\n",
        "     mode='remi',\n",
        "     model='transformer',\n",
        "     d_model=256, \n",
        "     max_len=10000,\n",
        "     dropout=0.1, \n",
        "     lr=2e-4,\n",
        "     tie_emb=False,\n",
        "     pos_emb='relative', \n",
        "     n_layer=4, \n",
        "     n_head=8, \n",
        "     d_inner=256, \n",
        "     activation='gelu'\n",
        " )"
      ],
      "metadata": {
        "id": "rrpNbja-YK4B"
      },
      "id": "rrpNbja-YK4B",
      "execution_count": 21,
      "outputs": []
    },
    {
      "cell_type": "markdown",
      "id": "c4f3944e",
      "metadata": {
        "id": "c4f3944e"
      },
      "source": [
        "## Model"
      ]
    },
    {
      "cell_type": "code",
      "execution_count": null,
      "id": "7e77e9d3",
      "metadata": {
        "scrolled": true,
        "id": "7e77e9d3",
        "outputId": "e5565957-ec72-4fe6-e6c8-7714bf01ebb9"
      },
      "outputs": [
        {
          "data": {
            "text/plain": [
              "{'lr': 0.0002,\n",
              " 'embedding': {'d_model': 256,\n",
              "  'dropout': 0.1,\n",
              "  'max_len': 10000,\n",
              "  'positional_embedding': 'relative',\n",
              "  'attributes': ['ttype',\n",
              "   'barbeat',\n",
              "   'tempo',\n",
              "   'chord',\n",
              "   'inst_family',\n",
              "   'pitch',\n",
              "   'duration',\n",
              "   'velocity'],\n",
              "  'n_tokens': {'ttype': 2,\n",
              "   'barbeat': 16,\n",
              "   'tempo': 21,\n",
              "   'chord': 133,\n",
              "   'inst_family': 17,\n",
              "   'pitch': 128,\n",
              "   'duration': 16,\n",
              "   'velocity': 20},\n",
              "  'emb_sizes': {'ttype': 8,\n",
              "   'barbeat': 32,\n",
              "   'tempo': 32,\n",
              "   'chord': 128,\n",
              "   'inst_family': 32,\n",
              "   'pitch': 128,\n",
              "   'duration': 32,\n",
              "   'velocity': 32}},\n",
              " 'head': {'d_model': 256,\n",
              "  'attributes': ['ttype',\n",
              "   'barbeat',\n",
              "   'tempo',\n",
              "   'chord',\n",
              "   'inst_family',\n",
              "   'pitch',\n",
              "   'duration',\n",
              "   'velocity'],\n",
              "  'n_tokens': {'ttype': 2,\n",
              "   'barbeat': 16,\n",
              "   'tempo': 21,\n",
              "   'chord': 133,\n",
              "   'inst_family': 17,\n",
              "   'pitch': 128,\n",
              "   'duration': 16,\n",
              "   'velocity': 20},\n",
              "  'emb_sizes': {'ttype': 8,\n",
              "   'barbeat': 32,\n",
              "   'tempo': 32,\n",
              "   'chord': 128,\n",
              "   'inst_family': 32,\n",
              "   'pitch': 128,\n",
              "   'duration': 32,\n",
              "   'velocity': 32}},\n",
              " 'transformer': {'d_model': 256,\n",
              "  'n_layer': 4,\n",
              "  'n_head': 8,\n",
              "  'd_inner': 256,\n",
              "  'dropout': 0.1,\n",
              "  'activation': 'gelu'},\n",
              " 'attributes': ['ttype',\n",
              "  'barbeat',\n",
              "  'tempo',\n",
              "  'chord',\n",
              "  'inst_family',\n",
              "  'pitch',\n",
              "  'duration',\n",
              "  'velocity']}"
            ]
          },
          "execution_count": 6,
          "metadata": {},
          "output_type": "execute_result"
        }
      ],
      "source": [
        "import src.config\n",
        "reload(src.config)\n",
        "from src.config import make_config\n",
        "from transformers import GPT2Config, TransfoXLConfig\n",
        "\n",
        "\n",
        "config = make_config(\n",
        "    const,\n",
        "    mode='cp',\n",
        "    model='transformer',\n",
        "    d_model=256, \n",
        "    max_len=10000,\n",
        "    dropout=0.1, \n",
        "    lr=2e-4,\n",
        "    tie_emb=False,\n",
        "    pos_emb='relative', \n",
        "    n_layer=4, \n",
        "    n_head=8, \n",
        "    d_inner=256, \n",
        "    activation='gelu'\n",
        ")\n",
        "\n",
        "# config = make_config(\n",
        "#     const,\n",
        "#     mode='remi',\n",
        "#     model='transformer',\n",
        "#     d_model=256, \n",
        "#     max_len=10000,\n",
        "#     dropout=0.1, \n",
        "#     lr=2e-4,\n",
        "#     tie_emb=False,\n",
        "#     pos_emb='relative', \n",
        "#     n_layer=4, \n",
        "#     n_head=8, \n",
        "#     d_inner=256, \n",
        "#     activation='gelu'\n",
        "# )\n",
        "\n",
        "# config = {\n",
        "#     'lr' : 1e-4,\n",
        "#     'transformer': TransfoXLConfig(\n",
        "#         vocab_size=len(const.all_tokens) + 1,\n",
        "#         cutoffs=[],\n",
        "#         d_model=256,\n",
        "#         d_embed=256,\n",
        "#         d_head=32,\n",
        "#         n_head=8,\n",
        "#         d_inner=256,\n",
        "#         n_layer=4,\n",
        "#         dropout=0.1,\n",
        "#         clamp_len=512,\n",
        "#         pad_token_id=len(const.all_tokens),\n",
        "#         eos_token_id=1,\n",
        "#         bos_token_id=0\n",
        "#     )\n",
        "# }\n",
        "config"
      ]
    },
    {
      "cell_type": "code",
      "source": [
        "!pip install pytorch-fast-transformers"
      ],
      "metadata": {
        "id": "XgirgXS1Yz58",
        "outputId": "296d3adb-f9c0-42ea-ae2a-50bb24fb9b23",
        "colab": {
          "base_uri": "https://localhost:8080/"
        }
      },
      "id": "XgirgXS1Yz58",
      "execution_count": null,
      "outputs": [
        {
          "output_type": "stream",
          "name": "stdout",
          "text": [
            "Looking in indexes: https://pypi.org/simple, https://us-python.pkg.dev/colab-wheels/public/simple/\n",
            "Collecting pytorch-fast-transformers\n",
            "  Downloading pytorch-fast-transformers-0.4.0.tar.gz (93 kB)\n",
            "\u001b[2K     \u001b[90m━━━━━━━━━━━━━━━━━━━━━━━━━━━━━━━━━━━━━━━━\u001b[0m \u001b[32m93.6/93.6 KB\u001b[0m \u001b[31m3.5 MB/s\u001b[0m eta \u001b[36m0:00:00\u001b[0m\n",
            "\u001b[?25h  Preparing metadata (setup.py) ... \u001b[?25l\u001b[?25hdone\n",
            "Requirement already satisfied: torch in /usr/local/lib/python3.9/dist-packages (from pytorch-fast-transformers) (1.13.1+cu116)\n",
            "Requirement already satisfied: typing-extensions in /usr/local/lib/python3.9/dist-packages (from torch->pytorch-fast-transformers) (4.5.0)\n",
            "Building wheels for collected packages: pytorch-fast-transformers\n"
          ]
        }
      ]
    },
    {
      "cell_type": "code",
      "source": [
        "from src.models.remi import RemiLinearTransformer, RemiHFTransformer, RemiTransformer\n",
        "model = CPSimpleTransformer.load_from_checkpoint(f'weights/{name}/last.ckpt', config=config)\n",
        "model.count_parameters()"
      ],
      "metadata": {
        "id": "qQ8TYDJEYgqb"
      },
      "id": "qQ8TYDJEYgqb",
      "execution_count": null,
      "outputs": []
    },
    {
      "cell_type": "code",
      "execution_count": null,
      "id": "63ce98ba",
      "metadata": {
        "id": "63ce98ba",
        "outputId": "d2b5d6fb-6ab8-4996-b7a7-7a22c8bac043"
      },
      "outputs": [
        {
          "data": {
            "text/plain": [
              "1818929"
            ]
          },
          "execution_count": 7,
          "metadata": {},
          "output_type": "execute_result"
        }
      ],
      "source": [
        "# from src.models.remi import RemiLinearTransformer, RemiHFTransformer, RemiTransformer\n",
        "from src.models.cp import CPSimpleTransformer\n",
        "\n",
        "model = CPSimpleTransformer(config)\n",
        "# model = CPSimpleTransformer.load_from_checkpoint(f'weights/{name}/last.ckpt', config=config)\n",
        "model.count_parameters()"
      ]
    },
    {
      "cell_type": "code",
      "execution_count": null,
      "id": "cb87f59a",
      "metadata": {
        "id": "cb87f59a",
        "outputId": "065da637-d1c2-4376-e82a-272ee2ee6cb0"
      },
      "outputs": [
        {
          "name": "stderr",
          "output_type": "stream",
          "text": [
            "/home/soroosh/projects/general_env/lib/python3.8/site-packages/pytorch_lightning/callbacks/model_checkpoint.py:396: LightningDeprecationWarning: Argument `period` in `ModelCheckpoint` is deprecated in v1.3 and will be removed in v1.5. Please use `every_n_val_epochs` instead.\n",
            "  rank_zero_deprecation(\n",
            "GPU available: True, used: True\n",
            "TPU available: False, using: 0 TPU cores\n"
          ]
        }
      ],
      "source": [
        "logger = TensorBoardLogger(save_dir='logs/', name=name)\n",
        "lr_logger = LearningRateMonitor(logging_interval='step')\n",
        "checkpoint = ModelCheckpoint(\n",
        "    dirpath=f'weights/{name}/', \n",
        "    filename='{epoch}-{val_loss:.2f}', \n",
        "    monitor='train_loss',\n",
        "    save_top_k=5, \n",
        "    period=1\n",
        ")\n",
        "\n",
        "trainer = Trainer(\n",
        "    benchmark=True, \n",
        "    gpus=1, \n",
        "    accumulate_grad_batches=1,\n",
        "    logger=logger, \n",
        "    max_epochs=20,\n",
        "    callbacks=[checkpoint, lr_logger]\n",
        ")"
      ]
    },
    {
      "cell_type": "code",
      "execution_count": null,
      "id": "ae643bb8",
      "metadata": {
        "id": "ae643bb8",
        "outputId": "2822406c-ab9b-4375-b770-f8aefc8109b6",
        "colab": {
          "referenced_widgets": [
            "",
            "534312099ef643708561d21a4cc470f7"
          ]
        }
      },
      "outputs": [
        {
          "name": "stderr",
          "output_type": "stream",
          "text": [
            "LOCAL_RANK: 0 - CUDA_VISIBLE_DEVICES: [0]\n",
            "\n",
            "  | Name        | Type               | Params\n",
            "---------------------------------------------------\n",
            "0 | loss_func   | CrossEntropyLoss   | 0     \n",
            "1 | embedding   | CPEmbedding        | 145 K \n",
            "2 | transformer | VanillaTransformer | 1.6 M \n",
            "3 | head        | CPSimpleHead       | 90.7 K\n",
            "---------------------------------------------------\n",
            "1.8 M     Trainable params\n",
            "0         Non-trainable params\n",
            "1.8 M     Total params\n",
            "7.276     Total estimated model params size (MB)\n"
          ]
        },
        {
          "data": {
            "application/vnd.jupyter.widget-view+json": {
              "model_id": "",
              "version_major": 2,
              "version_minor": 0
            },
            "text/plain": [
              "Validation sanity check: 0it [00:00, ?it/s]"
            ]
          },
          "metadata": {},
          "output_type": "display_data"
        },
        {
          "name": "stderr",
          "output_type": "stream",
          "text": [
            "Global seed set to 42\n"
          ]
        },
        {
          "data": {
            "application/vnd.jupyter.widget-view+json": {
              "model_id": "534312099ef643708561d21a4cc470f7",
              "version_major": 2,
              "version_minor": 0
            },
            "text/plain": [
              "Training: 0it [00:00, ?it/s]"
            ]
          },
          "metadata": {},
          "output_type": "display_data"
        },
        {
          "data": {
            "application/vnd.jupyter.widget-view+json": {
              "model_id": "",
              "version_major": 2,
              "version_minor": 0
            },
            "text/plain": [
              "Validating: 0it [00:00, ?it/s]"
            ]
          },
          "metadata": {},
          "output_type": "display_data"
        },
        {
          "data": {
            "application/vnd.jupyter.widget-view+json": {
              "model_id": "",
              "version_major": 2,
              "version_minor": 0
            },
            "text/plain": [
              "Validating: 0it [00:00, ?it/s]"
            ]
          },
          "metadata": {},
          "output_type": "display_data"
        },
        {
          "data": {
            "application/vnd.jupyter.widget-view+json": {
              "model_id": "",
              "version_major": 2,
              "version_minor": 0
            },
            "text/plain": [
              "Validating: 0it [00:00, ?it/s]"
            ]
          },
          "metadata": {},
          "output_type": "display_data"
        },
        {
          "data": {
            "application/vnd.jupyter.widget-view+json": {
              "model_id": "",
              "version_major": 2,
              "version_minor": 0
            },
            "text/plain": [
              "Validating: 0it [00:00, ?it/s]"
            ]
          },
          "metadata": {},
          "output_type": "display_data"
        },
        {
          "data": {
            "application/vnd.jupyter.widget-view+json": {
              "model_id": "",
              "version_major": 2,
              "version_minor": 0
            },
            "text/plain": [
              "Validating: 0it [00:00, ?it/s]"
            ]
          },
          "metadata": {},
          "output_type": "display_data"
        },
        {
          "data": {
            "application/vnd.jupyter.widget-view+json": {
              "model_id": "",
              "version_major": 2,
              "version_minor": 0
            },
            "text/plain": [
              "Validating: 0it [00:00, ?it/s]"
            ]
          },
          "metadata": {},
          "output_type": "display_data"
        },
        {
          "data": {
            "application/vnd.jupyter.widget-view+json": {
              "model_id": "",
              "version_major": 2,
              "version_minor": 0
            },
            "text/plain": [
              "Validating: 0it [00:00, ?it/s]"
            ]
          },
          "metadata": {},
          "output_type": "display_data"
        },
        {
          "data": {
            "application/vnd.jupyter.widget-view+json": {
              "model_id": "",
              "version_major": 2,
              "version_minor": 0
            },
            "text/plain": [
              "Validating: 0it [00:00, ?it/s]"
            ]
          },
          "metadata": {},
          "output_type": "display_data"
        },
        {
          "data": {
            "application/vnd.jupyter.widget-view+json": {
              "model_id": "",
              "version_major": 2,
              "version_minor": 0
            },
            "text/plain": [
              "Validating: 0it [00:00, ?it/s]"
            ]
          },
          "metadata": {},
          "output_type": "display_data"
        },
        {
          "data": {
            "application/vnd.jupyter.widget-view+json": {
              "model_id": "",
              "version_major": 2,
              "version_minor": 0
            },
            "text/plain": [
              "Validating: 0it [00:00, ?it/s]"
            ]
          },
          "metadata": {},
          "output_type": "display_data"
        },
        {
          "name": "stderr",
          "output_type": "stream",
          "text": [
            "IOPub message rate exceeded.\n",
            "The notebook server will temporarily stop sending output\n",
            "to the client in order to avoid crashing it.\n",
            "To change this limit, set the config variable\n",
            "`--NotebookApp.iopub_msg_rate_limit`.\n",
            "\n",
            "Current values:\n",
            "NotebookApp.iopub_msg_rate_limit=1000.0 (msgs/sec)\n",
            "NotebookApp.rate_limit_window=3.0 (secs)\n",
            "\n"
          ]
        },
        {
          "data": {
            "application/vnd.jupyter.widget-view+json": {
              "model_id": "",
              "version_major": 2,
              "version_minor": 0
            },
            "text/plain": [
              "Validating: 0it [00:00, ?it/s]"
            ]
          },
          "metadata": {},
          "output_type": "display_data"
        },
        {
          "name": "stderr",
          "output_type": "stream",
          "text": [
            "IOPub message rate exceeded.\n",
            "The notebook server will temporarily stop sending output\n",
            "to the client in order to avoid crashing it.\n",
            "To change this limit, set the config variable\n",
            "`--NotebookApp.iopub_msg_rate_limit`.\n",
            "\n",
            "Current values:\n",
            "NotebookApp.iopub_msg_rate_limit=1000.0 (msgs/sec)\n",
            "NotebookApp.rate_limit_window=3.0 (secs)\n",
            "\n"
          ]
        },
        {
          "data": {
            "application/vnd.jupyter.widget-view+json": {
              "model_id": "",
              "version_major": 2,
              "version_minor": 0
            },
            "text/plain": [
              "Validating: 0it [00:00, ?it/s]"
            ]
          },
          "metadata": {},
          "output_type": "display_data"
        },
        {
          "name": "stderr",
          "output_type": "stream",
          "text": [
            "IOPub message rate exceeded.\n",
            "The notebook server will temporarily stop sending output\n",
            "to the client in order to avoid crashing it.\n",
            "To change this limit, set the config variable\n",
            "`--NotebookApp.iopub_msg_rate_limit`.\n",
            "\n",
            "Current values:\n",
            "NotebookApp.iopub_msg_rate_limit=1000.0 (msgs/sec)\n",
            "NotebookApp.rate_limit_window=3.0 (secs)\n",
            "\n"
          ]
        }
      ],
      "source": [
        "trainer.fit(model, tl, vl)"
      ]
    },
    {
      "cell_type": "code",
      "execution_count": null,
      "id": "75f44afd",
      "metadata": {
        "id": "75f44afd"
      },
      "outputs": [],
      "source": [
        "trainer.save_checkpoint(f'weights/{name}/last.ckpt')"
      ]
    },
    {
      "cell_type": "code",
      "execution_count": null,
      "id": "ea0fb130",
      "metadata": {
        "id": "ea0fb130",
        "outputId": "e82a1db1-5112-4aee-85eb-18abadb54eb4"
      },
      "outputs": [
        {
          "data": {
            "text/plain": [
              "tensor([1.])"
            ]
          },
          "execution_count": 20,
          "metadata": {},
          "output_type": "execute_result"
        }
      ],
      "source": [
        "torch.ones(1)"
      ]
    },
    {
      "cell_type": "markdown",
      "id": "0f2a68fe",
      "metadata": {
        "id": "0f2a68fe"
      },
      "source": [
        "## generate"
      ]
    },
    {
      "cell_type": "code",
      "execution_count": null,
      "id": "582b811b",
      "metadata": {
        "id": "582b811b"
      },
      "outputs": [],
      "source": [
        "# from src.models.remi import RemiHFTransformer, RemiTransformer\n",
        "from src.models.cp import CPLinearTransformer, CPTransformer, CPSimpleTransformer\n",
        "\n",
        "\n",
        "gen_model = CPSimpleTransformer.load_from_checkpoint(f\"weights/{name}/last.ckpt\", config=config)"
      ]
    },
    {
      "cell_type": "code",
      "execution_count": null,
      "id": "b8ce4aea",
      "metadata": {
        "id": "b8ce4aea",
        "outputId": "518bdc4c-0aaa-46c1-8914-746cdc5fd96d"
      },
      "outputs": [
        {
          "name": "stdout",
          "output_type": "stream",
          "text": [
            "idx:  654\n",
            "['piano']\n"
          ]
        },
        {
          "data": {
            "text/plain": [
              "(55, 55)"
            ]
          },
          "execution_count": 12,
          "metadata": {},
          "output_type": "execute_result"
        }
      ],
      "source": [
        "path = data_config['data_dir']\n",
        "import random\n",
        "idx = random.randint(0, 1000)\n",
        "print('idx: ', idx)\n",
        "seq = MusicRepr.from_file(path + os.listdir(path)[idx], const=const)\n",
        "tracks = seq.separate_tracks()\n",
        "tracks = dict([(k,v) for k,v in tracks.items() if k in ['piano']])\n",
        "seq = MusicRepr.merge_tracks(tracks)\n",
        "print(seq.get_instruments())\n",
        "prompt = MusicRepr.concatenate(seq.get_bars()[:5])\n",
        "len(prompt), len(prompt.to_cp())"
      ]
    },
    {
      "cell_type": "code",
      "execution_count": null,
      "id": "f1de2e3e",
      "metadata": {
        "id": "f1de2e3e",
        "outputId": "36160ba5-02b4-4794-f7a8-41b204ccb2ef"
      },
      "outputs": [
        {
          "data": {
            "text/plain": [
              "MusicRepr(\n",
              " num_events=1,\n",
              " const=Constants(unit=4, tick_resol=480, min_tempo=30, max_tempo=300, num_tempo_bins=20, num_velocity_bins=20)\n",
              ")"
            ]
          },
          "execution_count": 13,
          "metadata": {},
          "output_type": "execute_result"
        }
      ],
      "source": [
        "seq.slice_by_index(0,1)"
      ]
    },
    {
      "cell_type": "code",
      "execution_count": null,
      "id": "ae7a5009",
      "metadata": {
        "id": "ae7a5009",
        "outputId": "e59f9a1b-ba76-4881-92a4-a823de9f867e",
        "colab": {
          "referenced_widgets": [
            "666a2d91602845d7ad5005d2a789530a"
          ]
        }
      },
      "outputs": [
        {
          "data": {
            "application/vnd.jupyter.widget-view+json": {
              "model_id": "666a2d91602845d7ad5005d2a789530a",
              "version_major": 2,
              "version_minor": 0
            },
            "text/plain": [
              "  0%|          | 0/100 [00:00<?, ?it/s]"
            ]
          },
          "metadata": {},
          "output_type": "display_data"
        },
        {
          "data": {
            "text/plain": [
              "(101, 8)"
            ]
          },
          "execution_count": 14,
          "metadata": {},
          "output_type": "execute_result"
        }
      ],
      "source": [
        "gen_conf = {\n",
        "    'p_ttype' : 1.,\n",
        "    't_ttype' : .2,\n",
        "    'p_barbeat' : 1.,\n",
        "    't_barbeat' : .5,\n",
        "    'p_tempo' : 1.,\n",
        "    't_tempo' : .5,\n",
        "    'p_chord' : 1.,\n",
        "    't_chord' : .5,\n",
        "    'p_inst_family' : 1.,\n",
        "    't_inst_family' : 0.5,\n",
        "    'p_pitch' : 1.,\n",
        "    't_pitch' : .5,\n",
        "    'p_duration' : 1.,\n",
        "    't_duration' : .5,\n",
        "    'p_velocity' : 1.,\n",
        "    't_velocity' : .5,\n",
        "}\n",
        "\n",
        "\n",
        "gen_cp = gen_model.generate(prompt=seq.slice_by_index(0,1), max_len=100, window=500, cuda=True, gen_conf=gen_conf)\n",
        "gen_cp.shape"
      ]
    },
    {
      "cell_type": "code",
      "execution_count": null,
      "id": "670c9e72",
      "metadata": {
        "id": "670c9e72",
        "outputId": "01c0ae00-c861-4718-96dd-5bb0200d3e38"
      },
      "outputs": [
        {
          "data": {
            "text/plain": [
              "(101, 88)"
            ]
          },
          "execution_count": 15,
          "metadata": {},
          "output_type": "execute_result"
        }
      ],
      "source": [
        "gen_seq = MusicRepr.from_cp(gen_cp.astype(int), const=const)\n",
        "len(gen_seq), gen_seq.get_bar_count()"
      ]
    },
    {
      "cell_type": "code",
      "execution_count": null,
      "id": "c45b6827",
      "metadata": {
        "id": "c45b6827",
        "outputId": "a844c2d9-a8d9-43e1-8fee-2bfa9098402e"
      },
      "outputs": [
        {
          "data": {
            "text/plain": [
              "[Bar(position=0, tempo=115),\n",
              " Note(inst_family=piano, pitch=63, duration=1, velocity=54),\n",
              " Note(inst_family=piano, pitch=63, duration=1, velocity=54),\n",
              " Note(inst_family=piano, pitch=59, duration=8, velocity=54),\n",
              " Beat(position=11),\n",
              " Note(inst_family=piano, pitch=63, duration=7, velocity=54),\n",
              " Note(inst_family=piano, pitch=63, duration=7, velocity=47),\n",
              " Note(inst_family=piano, pitch=63, duration=8, velocity=47),\n",
              " Note(inst_family=piano, pitch=66, duration=8, velocity=54),\n",
              " Beat(position=11, tempo=129),\n",
              " Note(inst_family=piano, pitch=63, duration=16, velocity=54),\n",
              " Note(inst_family=piano, pitch=70, duration=16, velocity=60),\n",
              " Beat(position=15),\n",
              " Note(inst_family=piano, pitch=64, duration=16, velocity=54),\n",
              " Bar(position=0, tempo=129),\n",
              " Bar(position=0),\n",
              " Bar(position=0, tempo=129),\n",
              " Bar(position=0),\n",
              " Bar(position=0),\n",
              " Bar(position=0, tempo=115, chord=G_m7),\n",
              " Bar(position=0),\n",
              " Bar(position=0),\n",
              " Bar(position=0),\n",
              " Bar(position=0),\n",
              " Bar(position=0),\n",
              " Bar(position=0),\n",
              " Bar(position=0),\n",
              " Bar(position=0),\n",
              " Bar(position=0),\n",
              " Bar(position=0)]"
            ]
          },
          "execution_count": 16,
          "metadata": {},
          "output_type": "execute_result"
        }
      ],
      "source": [
        "gen_seq[:30]"
      ]
    },
    {
      "cell_type": "code",
      "execution_count": null,
      "id": "6106f463",
      "metadata": {
        "id": "6106f463"
      },
      "outputs": [],
      "source": [
        "# gen_remi = gen_model.generate(prompt=None, max_len=1000, window=500, cuda=True, top_p=.9, temperature=.7)\n",
        "# print(gen_remi.shape)\n",
        "\n",
        "# tokens = [const.all_tokens[idx] for idx in gen_remi]\n",
        "# print(tokens[:10])\n",
        "# gen_seq = MusicRepr.from_string(' '.join(tokens), const=const)\n",
        "# len(gen_seq), gen_seq.get_bar_count()"
      ]
    },
    {
      "cell_type": "code",
      "execution_count": null,
      "id": "ea4a9700",
      "metadata": {
        "id": "ea4a9700",
        "outputId": "48a07104-c075-49d8-f4c7-edf02cfd755f"
      },
      "outputs": [
        {
          "data": {
            "text/plain": [
              "ticks per beat: 480\n",
              "max tick: 11520\n",
              "tempo changes: 5\n",
              "time sig: 1\n",
              "key sig: 0\n",
              "markers: 1\n",
              "lyrics: False\n",
              "instruments: 1"
            ]
          },
          "execution_count": 18,
          "metadata": {},
          "output_type": "execute_result"
        }
      ],
      "source": [
        "gen_seq.to_midi('cp-v-piano.mid')"
      ]
    },
    {
      "cell_type": "code",
      "execution_count": null,
      "id": "68b1e8bf",
      "metadata": {
        "id": "68b1e8bf",
        "outputId": "76465dd0-3d9a-41b9-fb7f-b02d55870609"
      },
      "outputs": [
        {
          "data": {
            "text/plain": [
              "<matplotlib.image.AxesImage at 0x7f484a58fb50>"
            ]
          },
          "execution_count": 19,
          "metadata": {},
          "output_type": "execute_result"
        },
        {
          "data": {
            "image/png": "[encoded data removed]",
            "text/plain": [
              "<Figure size 1440x360 with 1 Axes>"
            ]
          },
          "metadata": {
            "needs_background": "light"
          },
          "output_type": "display_data"
        }
      ],
      "source": [
        "import matplotlib.pyplot as plt\n",
        "\n",
        "plt.figure(figsize=(20,5))\n",
        "plt.imshow(gen_seq.to_pianoroll(add_tempo_chord=False)['piano'])"
      ]
    },
    {
      "cell_type": "code",
      "execution_count": null,
      "id": "973c3e82",
      "metadata": {
        "id": "973c3e82"
      },
      "outputs": [],
      "source": []
    }
  ],
  "metadata": {
    "kernelspec": {
      "display_name": "Python 3",
      "language": "python",
      "name": "python3"
    },
    "language_info": {
      "codemirror_mode": {
        "name": "ipython",
        "version": 3
      },
      "file_extension": ".py",
      "mimetype": "text/x-python",
      "name": "python",
      "nbconvert_exporter": "python",
      "pygments_lexer": "ipython3",
      "version": "3.8.10"
    },
    "colab": {
      "provenance": []
    },
    "widgets": {
      "application/vnd.jupyter.widget-state+json": {
        "7b5766a79059457babc64c2e8ae45528": {
          "model_module": "@jupyter-widgets/controls",
          "model_name": "HBoxModel",
          "model_module_version": "1.5.0",
          "state": {
            "_dom_classes": [],
            "_model_module": "@jupyter-widgets/controls",
            "_model_module_version": "1.5.0",
            "_model_name": "HBoxModel",
            "_view_count": null,
            "_view_module": "@jupyter-widgets/controls",
            "_view_module_version": "1.5.0",
            "_view_name": "HBoxView",
            "box_style": "",
            "children": [
              "IPY_MODEL_c45a327564cc4505b829c892af7c1ba4",
              "IPY_MODEL_0117dab549a7408dbd154b8b3f361bed",
              "IPY_MODEL_46e28b61e18141eb9c1cb68b123ab22c"
            ],
            "layout": "IPY_MODEL_e10308137ad142188218c530d7e322c6"
          }
        },
        "c45a327564cc4505b829c892af7c1ba4": {
          "model_module": "@jupyter-widgets/controls",
          "model_name": "HTMLModel",
          "model_module_version": "1.5.0",
          "state": {
            "_dom_classes": [],
            "_model_module": "@jupyter-widgets/controls",
            "_model_module_version": "1.5.0",
            "_model_name": "HTMLModel",
            "_view_count": null,
            "_view_module": "@jupyter-widgets/controls",
            "_view_module_version": "1.5.0",
            "_view_name": "HTMLView",
            "description": "",
            "description_tooltip": null,
            "layout": "IPY_MODEL_d4d97b045f15498ca13b1fabda7dac0f",
            "placeholder": "​",
            "style": "IPY_MODEL_71c420aa7aac4310bb9f88c043873696",
            "value": "100%"
          }
        },
        "0117dab549a7408dbd154b8b3f361bed": {
          "model_module": "@jupyter-widgets/controls",
          "model_name": "FloatProgressModel",
          "model_module_version": "1.5.0",
          "state": {
            "_dom_classes": [],
            "_model_module": "@jupyter-widgets/controls",
            "_model_module_version": "1.5.0",
            "_model_name": "FloatProgressModel",
            "_view_count": null,
            "_view_module": "@jupyter-widgets/controls",
            "_view_module_version": "1.5.0",
            "_view_name": "ProgressView",
            "bar_style": "success",
            "description": "",
            "description_tooltip": null,
            "layout": "IPY_MODEL_239aa790fe624eb0bcb2c36f8195f90a",
            "max": 10,
            "min": 0,
            "orientation": "horizontal",
            "style": "IPY_MODEL_a428781a626745adbfd9674c46ab3ed3",
            "value": 10
          }
        },
        "46e28b61e18141eb9c1cb68b123ab22c": {
          "model_module": "@jupyter-widgets/controls",
          "model_name": "HTMLModel",
          "model_module_version": "1.5.0",
          "state": {
            "_dom_classes": [],
            "_model_module": "@jupyter-widgets/controls",
            "_model_module_version": "1.5.0",
            "_model_name": "HTMLModel",
            "_view_count": null,
            "_view_module": "@jupyter-widgets/controls",
            "_view_module_version": "1.5.0",
            "_view_name": "HTMLView",
            "description": "",
            "description_tooltip": null,
            "layout": "IPY_MODEL_876bbac742bf4231ad84deab31155cab",
            "placeholder": "​",
            "style": "IPY_MODEL_80ef74310aa644f18fe5dba234e9f895",
            "value": " 10/10 [00:00&lt;00:00, 284.75it/s]"
          }
        },
        "e10308137ad142188218c530d7e322c6": {
          "model_module": "@jupyter-widgets/base",
          "model_name": "LayoutModel",
          "model_module_version": "1.2.0",
          "state": {
            "_model_module": "@jupyter-widgets/base",
            "_model_module_version": "1.2.0",
            "_model_name": "LayoutModel",
            "_view_count": null,
            "_view_module": "@jupyter-widgets/base",
            "_view_module_version": "1.2.0",
            "_view_name": "LayoutView",
            "align_content": null,
            "align_items": null,
            "align_self": null,
            "border": null,
            "bottom": null,
            "display": null,
            "flex": null,
            "flex_flow": null,
            "grid_area": null,
            "grid_auto_columns": null,
            "grid_auto_flow": null,
            "grid_auto_rows": null,
            "grid_column": null,
            "grid_gap": null,
            "grid_row": null,
            "grid_template_areas": null,
            "grid_template_columns": null,
            "grid_template_rows": null,
            "height": null,
            "justify_content": null,
            "justify_items": null,
            "left": null,
            "margin": null,
            "max_height": null,
            "max_width": null,
            "min_height": null,
            "min_width": null,
            "object_fit": null,
            "object_position": null,
            "order": null,
            "overflow": null,
            "overflow_x": null,
            "overflow_y": null,
            "padding": null,
            "right": null,
            "top": null,
            "visibility": null,
            "width": null
          }
        },
        "d4d97b045f15498ca13b1fabda7dac0f": {
          "model_module": "@jupyter-widgets/base",
          "model_name": "LayoutModel",
          "model_module_version": "1.2.0",
          "state": {
            "_model_module": "@jupyter-widgets/base",
            "_model_module_version": "1.2.0",
            "_model_name": "LayoutModel",
            "_view_count": null,
            "_view_module": "@jupyter-widgets/base",
            "_view_module_version": "1.2.0",
            "_view_name": "LayoutView",
            "align_content": null,
            "align_items": null,
            "align_self": null,
            "border": null,
            "bottom": null,
            "display": null,
            "flex": null,
            "flex_flow": null,
            "grid_area": null,
            "grid_auto_columns": null,
            "grid_auto_flow": null,
            "grid_auto_rows": null,
            "grid_column": null,
            "grid_gap": null,
            "grid_row": null,
            "grid_template_areas": null,
            "grid_template_columns": null,
            "grid_template_rows": null,
            "height": null,
            "justify_content": null,
            "justify_items": null,
            "left": null,
            "margin": null,
            "max_height": null,
            "max_width": null,
            "min_height": null,
            "min_width": null,
            "object_fit": null,
            "object_position": null,
            "order": null,
            "overflow": null,
            "overflow_x": null,
            "overflow_y": null,
            "padding": null,
            "right": null,
            "top": null,
            "visibility": null,
            "width": null
          }
        },
        "71c420aa7aac4310bb9f88c043873696": {
          "model_module": "@jupyter-widgets/controls",
          "model_name": "DescriptionStyleModel",
          "model_module_version": "1.5.0",
          "state": {
            "_model_module": "@jupyter-widgets/controls",
            "_model_module_version": "1.5.0",
            "_model_name": "DescriptionStyleModel",
            "_view_count": null,
            "_view_module": "@jupyter-widgets/base",
            "_view_module_version": "1.2.0",
            "_view_name": "StyleView",
            "description_width": ""
          }
        },
        "239aa790fe624eb0bcb2c36f8195f90a": {
          "model_module": "@jupyter-widgets/base",
          "model_name": "LayoutModel",
          "model_module_version": "1.2.0",
          "state": {
            "_model_module": "@jupyter-widgets/base",
            "_model_module_version": "1.2.0",
            "_model_name": "LayoutModel",
            "_view_count": null,
            "_view_module": "@jupyter-widgets/base",
            "_view_module_version": "1.2.0",
            "_view_name": "LayoutView",
            "align_content": null,
            "align_items": null,
            "align_self": null,
            "border": null,
            "bottom": null,
            "display": null,
            "flex": null,
            "flex_flow": null,
            "grid_area": null,
            "grid_auto_columns": null,
            "grid_auto_flow": null,
            "grid_auto_rows": null,
            "grid_column": null,
            "grid_gap": null,
            "grid_row": null,
            "grid_template_areas": null,
            "grid_template_columns": null,
            "grid_template_rows": null,
            "height": null,
            "justify_content": null,
            "justify_items": null,
            "left": null,
            "margin": null,
            "max_height": null,
            "max_width": null,
            "min_height": null,
            "min_width": null,
            "object_fit": null,
            "object_position": null,
            "order": null,
            "overflow": null,
            "overflow_x": null,
            "overflow_y": null,
            "padding": null,
            "right": null,
            "top": null,
            "visibility": null,
            "width": null
          }
        },
        "a428781a626745adbfd9674c46ab3ed3": {
          "model_module": "@jupyter-widgets/controls",
          "model_name": "ProgressStyleModel",
          "model_module_version": "1.5.0",
          "state": {
            "_model_module": "@jupyter-widgets/controls",
            "_model_module_version": "1.5.0",
            "_model_name": "ProgressStyleModel",
            "_view_count": null,
            "_view_module": "@jupyter-widgets/base",
            "_view_module_version": "1.2.0",
            "_view_name": "StyleView",
            "bar_color": null,
            "description_width": ""
          }
        },
        "876bbac742bf4231ad84deab31155cab": {
          "model_module": "@jupyter-widgets/base",
          "model_name": "LayoutModel",
          "model_module_version": "1.2.0",
          "state": {
            "_model_module": "@jupyter-widgets/base",
            "_model_module_version": "1.2.0",
            "_model_name": "LayoutModel",
            "_view_count": null,
            "_view_module": "@jupyter-widgets/base",
            "_view_module_version": "1.2.0",
            "_view_name": "LayoutView",
            "align_content": null,
            "align_items": null,
            "align_self": null,
            "border": null,
            "bottom": null,
            "display": null,
            "flex": null,
            "flex_flow": null,
            "grid_area": null,
            "grid_auto_columns": null,
            "grid_auto_flow": null,
            "grid_auto_rows": null,
            "grid_column": null,
            "grid_gap": null,
            "grid_row": null,
            "grid_template_areas": null,
            "grid_template_columns": null,
            "grid_template_rows": null,
            "height": null,
            "justify_content": null,
            "justify_items": null,
            "left": null,
            "margin": null,
            "max_height": null,
            "max_width": null,
            "min_height": null,
            "min_width": null,
            "object_fit": null,
            "object_position": null,
            "order": null,
            "overflow": null,
            "overflow_x": null,
            "overflow_y": null,
            "padding": null,
            "right": null,
            "top": null,
            "visibility": null,
            "width": null
          }
        },
        "80ef74310aa644f18fe5dba234e9f895": {
          "model_module": "@jupyter-widgets/controls",
          "model_name": "DescriptionStyleModel",
          "model_module_version": "1.5.0",
          "state": {
            "_model_module": "@jupyter-widgets/controls",
            "_model_module_version": "1.5.0",
            "_model_name": "DescriptionStyleModel",
            "_view_count": null,
            "_view_module": "@jupyter-widgets/base",
            "_view_module_version": "1.2.0",
            "_view_name": "StyleView",
            "description_width": ""
          }
        }
      }
    }
  },
  "nbformat": 4,
  "nbformat_minor": 5
}